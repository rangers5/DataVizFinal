{
 "cells": [
  {
   "cell_type": "markdown",
   "metadata": {},
   "source": [
    "### This file is for quickly cleaning the data without any of the graphs, so that it is easier to quicky create plots in other areas\n",
    "#### It will save the adjusted DF to a csv for use in other files"
   ]
  },
  {
   "cell_type": "code",
   "execution_count": 1,
   "metadata": {},
   "outputs": [],
   "source": [
    "import matplotlib.pyplot as plt\n",
    "import numpy as np\n",
    "import pandas as pd\n",
    "import seaborn as sns\n",
    "from plotnine import *\n",
    "%matplotlib inline\n",
    "\n",
    "#https://www.kaggle.com/datasets/theforcecoder/wind-power-forecasting?resource=download"
   ]
  },
  {
   "cell_type": "code",
   "execution_count": 2,
   "metadata": {},
   "outputs": [],
   "source": [
    "#Read in the dataframe\n",
    "df = pd.read_csv(\"Data/Turbine_Data.csv\")\n",
    "#Rename the Time column from unnamed\n",
    "df.rename(columns={'Unnamed: 0':'Time'}, inplace = True)\n",
    "#Convert the time column to a datatime object\n",
    "df['Time']  = pd.to_datetime(df['Time'])\n",
    "\n",
    "#Del Columns that provide no info / only 1 value\n",
    "del(df[\"WTG\"])\n",
    "del(df[\"ControlBoxTemperature\"])\n",
    "\n",
    "#Drop all rows that don't have any values\n",
    "noTime = df.drop('Time', axis=1, inplace=False)\n",
    "df = pd.DataFrame(df[noTime.notnull().any(axis=1)])\n",
    "\n",
    "#Since null values are less than 1% for these columns, drop the rows that contain them since they contain no usefull info\n",
    "df = df.dropna(subset=[\"ActivePower\", \"ReactivePower\", \"WindSpeed\"])\n",
    "#Since these low percent distributions are skewed, replace null with median\n",
    "nullPer =  df.isnull().sum() / df.shape[0]\n",
    "lowNullCount = []\n",
    "for nullP in nullPer:\n",
    "    if((nullP > 0.0) & (nullP < .05)):\n",
    "        lowNullCount.append(nullPer[nullPer == nullP].index[0])\n",
    "for col in lowNullCount:\n",
    "    df[col].fillna(df[col].median(), inplace=True)\n",
    "    \n",
    "# Removing columns that have high correlations and similar distributions\n",
    "# among the correlated columns, we remove the ones with lowest null values \n",
    "to_drop = ['GearboxOilTemperature','Blade2PitchAngle', 'Blade3PitchAngle','GeneratorWinding1Temperature',\n",
    "           'RotorRPM','NacellePosition']\n",
    "# creating new dataframe by dropping the above columns\n",
    "df_new = df.drop(to_drop, axis=1, inplace=False)\n",
    "df = pd.DataFrame(df_new)\n",
    "\n",
    "#removing outliers using the interquartile range\n",
    "cols = list(df.columns)\n",
    "[cols.remove(x) for x in [\"Time\"]]\n",
    "Q3 = df[cols].quantile(0.75)\n",
    "Q1 = df[cols].quantile(0.25)\n",
    "iqr=Q3-Q1\n",
    "df = df[~((df[cols] < (Q1 - 1.5 * iqr)) |(df[cols] > (Q3 + 1.5 * iqr))).any(axis=1)]\n",
    "\n",
    "# multiple columns had large % of missing values for the same observations\n",
    "# dropping rows with null values for the column with the least number of nans\n",
    "df = df.dropna(subset=[\"BearingShaftTemperature\"])\n",
    "\n",
    "# imputing rest of the data\n",
    "# interpolation works best with this data set\n",
    "df.interpolate(method='pad', limit_direction='forward', axis = 0, inplace=True)\n",
    "# impute remaining with median\n",
    "for col in df.columns[1:]:\n",
    "    df[col].fillna(df[col].median(), inplace=True)\n",
    "\n",
    "# the distribuitions still show outliers on the extreme ends so we remove outliers using percentile\n",
    "cols = list(df.columns)\n",
    "[cols.remove(x) for x in [\"Time\"]]\n",
    "upper = df[cols].quantile(0.99)\n",
    "lower = df[cols].quantile(0.01)\n",
    "df = df[~((df[cols] < lower) |(df[cols] > (upper))).any(axis=1)]\n",
    "\n",
    "#Expand upon the time columns to make it easier for the time series graphs\n",
    "df[\"year\"] = df.Time.dt.year\n",
    "df[\"month\"] = df.Time.dt.month\n",
    "df[\"day\"] = df.Time.dt.day\n",
    "df.to_csv(\"Data/cleanData.csv\")"
   ]
  },
  {
   "cell_type": "code",
   "execution_count": 3,
   "metadata": {},
   "outputs": [
    {
     "name": "stdout",
     "output_type": "stream",
     "text": [
      "<class 'pandas.core.frame.DataFrame'>\n",
      "Int64Index: 41915 entries, 33362 to 118223\n",
      "Data columns (total 17 columns):\n",
      " #   Column                        Non-Null Count  Dtype              \n",
      "---  ------                        --------------  -----              \n",
      " 0   Time                          41915 non-null  datetime64[ns, UTC]\n",
      " 1   ActivePower                   41915 non-null  float64            \n",
      " 2   AmbientTemperatue             41915 non-null  float64            \n",
      " 3   BearingShaftTemperature       41915 non-null  float64            \n",
      " 4   Blade1PitchAngle              41915 non-null  float64            \n",
      " 5   GearboxBearingTemperature     41915 non-null  float64            \n",
      " 6   GeneratorRPM                  41915 non-null  float64            \n",
      " 7   GeneratorWinding2Temperature  41915 non-null  float64            \n",
      " 8   HubTemperature                41915 non-null  float64            \n",
      " 9   MainBoxTemperature            41915 non-null  float64            \n",
      " 10  ReactivePower                 41915 non-null  float64            \n",
      " 11  TurbineStatus                 41915 non-null  float64            \n",
      " 12  WindDirection                 41915 non-null  float64            \n",
      " 13  WindSpeed                     41915 non-null  float64            \n",
      " 14  year                          41915 non-null  int64              \n",
      " 15  month                         41915 non-null  int64              \n",
      " 16  day                           41915 non-null  int64              \n",
      "dtypes: datetime64[ns, UTC](1), float64(13), int64(3)\n",
      "memory usage: 5.8 MB\n"
     ]
    }
   ],
   "source": [
    "df.info()"
   ]
  },
  {
   "cell_type": "code",
   "execution_count": 4,
   "metadata": {},
   "outputs": [],
   "source": [
    "# import dataframe_image as dfi\n",
    "# dfi.export(df.describe(), 'summary.png')"
   ]
  },
  {
   "cell_type": "code",
   "execution_count": 5,
   "metadata": {},
   "outputs": [],
   "source": [
    "# pip install dataframe-image"
   ]
  },
  {
   "cell_type": "code",
   "execution_count": 6,
   "metadata": {},
   "outputs": [
    {
     "name": "stdout",
     "output_type": "stream",
     "text": [
      "2018-08-19 16:20:00+00:00\n",
      "2020-03-30 23:50:00+00:00\n"
     ]
    }
   ],
   "source": [
    "print(df['Time'].min())\n",
    "print(df['Time'].max())"
   ]
  },
  {
   "cell_type": "code",
   "execution_count": null,
   "metadata": {},
   "outputs": [],
   "source": []
  }
 ],
 "metadata": {
  "interpreter": {
   "hash": "e7370f93d1d0cde622a1f8e1c04877d8463912d04d973331ad4851f04de6915a"
  },
  "kernelspec": {
   "display_name": "Python 3",
   "language": "python",
   "name": "python3"
  },
  "language_info": {
   "codemirror_mode": {
    "name": "ipython",
    "version": 3
   },
   "file_extension": ".py",
   "mimetype": "text/x-python",
   "name": "python",
   "nbconvert_exporter": "python",
   "pygments_lexer": "ipython3",
   "version": "3.8.5"
  }
 },
 "nbformat": 4,
 "nbformat_minor": 2
}
