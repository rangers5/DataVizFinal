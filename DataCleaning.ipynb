{
 "cells": [
  {
   "cell_type": "markdown",
   "metadata": {},
   "source": [
    "### This file is for quickly cleaning the data without any of the graphs, so that it is easier to quicky create plots in ohter areas\n",
    "#### It will save the adjusted DF to a csv for use in other files"
   ]
  },
  {
   "cell_type": "code",
   "execution_count": 2,
   "metadata": {},
   "outputs": [],
   "source": [
    "import matplotlib.pyplot as plt\n",
    "import numpy as np\n",
    "import pandas as pd\n",
    "import seaborn as sns\n",
    "from plotnine import *\n",
    "%matplotlib inline\n",
    "\n",
    "#https://www.kaggle.com/datasets/theforcecoder/wind-power-forecasting?resource=download"
   ]
  },
  {
   "cell_type": "code",
   "execution_count": 3,
   "metadata": {},
   "outputs": [],
   "source": [
    "#Read in the dataframe\n",
    "df = pd.read_csv(\"Data/Turbine_Data.csv\")\n",
    "#Rename the Time column from unnamed\n",
    "df.rename(columns={'Unnamed: 0':'Time'}, inplace = True)\n",
    "#Convert the time column to a datatime object\n",
    "df['Time']  = pd.to_datetime(df['Time'])\n",
    "#Del Columns that provide no info / only 1 value\n",
    "del(df[\"WTG\"])\n",
    "del(df[\"ControlBoxTemperature\"])\n",
    "#Drop all rows that don't have any values\n",
    "noTime = df.drop('Time', axis=1, inplace=False)\n",
    "df = pd.DataFrame(df[noTime.notnull().any(axis=1)])\n",
    "\n",
    "#Since null values are less than 1% for these columns, drop the rows that contain them since they contain no usefull info\n",
    "df = df.dropna(subset=[\"ActivePower\", \"ReactivePower\", \"WindSpeed\"])\n",
    "#Since these low percent distributions are skewed, replace null with median\n",
    "nullPer =  df.isnull().sum() / df.shape[0]\n",
    "lowNullCount = []\n",
    "for nullP in nullPer:\n",
    "    if((nullP > 0.0) & (nullP < .05)):\n",
    "        lowNullCount.append(nullPer[nullPer == nullP].index[0])\n",
    "for col in lowNullCount:\n",
    "    df[col].fillna(df[col].median(), inplace=True)\n",
    "# Removing columns that have high correlations and similar distributions\n",
    "# among the correlated columns, we remove the ones with lowest null values \n",
    "to_drop = ['GearboxOilTemperature','Blade2PitchAngle', 'Blade3PitchAngle','GeneratorWinding1Temperature',\n",
    "           'RotorRPM','NacellePosition']\n",
    "# we skip WindSpeed since it seems to have a much different distribution than ActivePower\n",
    "# creating new dataframe by dropping the above columns\n",
    "df_new = df.drop(to_drop, axis=1, inplace=False)\n",
    "df = pd.DataFrame(df_new)\n",
    "#removing outliers using the interquartile range\n",
    "cols = list(df.columns)\n",
    "[cols.remove(x) for x in [\"Time\"]]\n",
    "# Noting that Blade1PitchAngle had more than 50% missing values\n",
    "Q3 = df[cols].quantile(0.75)\n",
    "Q1 = df[cols].quantile(0.25)\n",
    "iqr=Q3-Q1\n",
    "df = df[~((df[cols] < (Q1 - 1.5 * iqr)) |(df[cols] > (Q3 + 1.5 * iqr))).any(axis=1)]\n",
    "# dropping rows with null values for the column with the least number of nans\n",
    "df = df.dropna(subset=[\"BearingShaftTemperature\"])\n",
    "# imputing rest of the data\n",
    "df.interpolate(method='pad', limit_direction='forward', axis = 0, inplace=True)\n",
    "# impute remaining with median\n",
    "for col in df.columns[1:]:\n",
    "    df[col].fillna(df[col].median(), inplace=True)\n",
    "# the distribuitions still show outliers on the extreme ends so we remove outliers using percentile\n",
    "cols = list(df.columns)\n",
    "[cols.remove(x) for x in [\"Time\"]]\n",
    "upper = df[cols].quantile(0.99)\n",
    "lower = df[cols].quantile(0.01)\n",
    "df = df[~((df[cols] < lower) |(df[cols] > (upper))).any(axis=1)]\n",
    "#Expand upon the time columns to make it easier for the time series graphs\n",
    "df[\"year\"] = df.Time.dt.year\n",
    "df[\"month\"] = df.Time.dt.month\n",
    "df[\"day\"] = df.Time.dt.day\n",
    "df.to_csv(\"Data/cleanData.csv\")"
   ]
  },
  {
   "cell_type": "code",
   "execution_count": 4,
   "metadata": {},
   "outputs": [
    {
     "name": "stdout",
     "output_type": "stream",
     "text": [
      "<class 'pandas.core.frame.DataFrame'>\n",
      "Int64Index: 41915 entries, 33362 to 118223\n",
      "Data columns (total 17 columns):\n",
      " #   Column                        Non-Null Count  Dtype              \n",
      "---  ------                        --------------  -----              \n",
      " 0   Time                          41915 non-null  datetime64[ns, UTC]\n",
      " 1   ActivePower                   41915 non-null  float64            \n",
      " 2   AmbientTemperatue             41915 non-null  float64            \n",
      " 3   BearingShaftTemperature       41915 non-null  float64            \n",
      " 4   Blade1PitchAngle              41915 non-null  float64            \n",
      " 5   GearboxBearingTemperature     41915 non-null  float64            \n",
      " 6   GeneratorRPM                  41915 non-null  float64            \n",
      " 7   GeneratorWinding2Temperature  41915 non-null  float64            \n",
      " 8   HubTemperature                41915 non-null  float64            \n",
      " 9   MainBoxTemperature            41915 non-null  float64            \n",
      " 10  ReactivePower                 41915 non-null  float64            \n",
      " 11  TurbineStatus                 41915 non-null  float64            \n",
      " 12  WindDirection                 41915 non-null  float64            \n",
      " 13  WindSpeed                     41915 non-null  float64            \n",
      " 14  year                          41915 non-null  int64              \n",
      " 15  month                         41915 non-null  int64              \n",
      " 16  day                           41915 non-null  int64              \n",
      "dtypes: datetime64[ns, UTC](1), float64(13), int64(3)\n",
      "memory usage: 5.8 MB\n"
     ]
    }
   ],
   "source": [
    "df.info()"
   ]
  },
  {
   "cell_type": "code",
   "execution_count": 13,
   "metadata": {},
   "outputs": [],
   "source": [
    "# import dataframe_image as dfi\n",
    "# dfi.export(df.describe(), 'summary.png')"
   ]
  },
  {
   "cell_type": "code",
   "execution_count": 12,
   "metadata": {},
   "outputs": [
    {
     "name": "stdout",
     "output_type": "stream",
     "text": [
      "Collecting dataframe-image\n",
      "  Downloading dataframe_image-0.1.1-py3-none-any.whl (32 kB)\n",
      "Requirement already satisfied: requests in c:\\users\\kunse\\anaconda3\\lib\\site-packages (from dataframe-image) (2.24.0)\n",
      "Requirement already satisfied: pandas>=0.24 in c:\\users\\kunse\\anaconda3\\lib\\site-packages (from dataframe-image) (1.1.3)\n",
      "Requirement already satisfied: matplotlib>=3.1 in c:\\users\\kunse\\anaconda3\\lib\\site-packages (from dataframe-image) (3.3.2)\n",
      "Requirement already satisfied: beautifulsoup4 in c:\\users\\kunse\\anaconda3\\lib\\site-packages (from dataframe-image) (4.9.3)\n",
      "Collecting aiohttp\n",
      "  Downloading aiohttp-3.8.1-cp38-cp38-win_amd64.whl (555 kB)\n",
      "Requirement already satisfied: nbconvert>=5 in c:\\users\\kunse\\anaconda3\\lib\\site-packages (from dataframe-image) (6.0.7)\n",
      "Requirement already satisfied: urllib3!=1.25.0,!=1.25.1,<1.26,>=1.21.1 in c:\\users\\kunse\\anaconda3\\lib\\site-packages (from requests->dataframe-image) (1.25.11)\n",
      "Requirement already satisfied: chardet<4,>=3.0.2 in c:\\users\\kunse\\anaconda3\\lib\\site-packages (from requests->dataframe-image) (3.0.4)\n",
      "Requirement already satisfied: certifi>=2017.4.17 in c:\\users\\kunse\\anaconda3\\lib\\site-packages (from requests->dataframe-image) (2020.6.20)\n",
      "Requirement already satisfied: idna<3,>=2.5 in c:\\users\\kunse\\anaconda3\\lib\\site-packages (from requests->dataframe-image) (2.10)\n",
      "Requirement already satisfied: python-dateutil>=2.7.3 in c:\\users\\kunse\\anaconda3\\lib\\site-packages (from pandas>=0.24->dataframe-image) (2.8.1)\n",
      "Requirement already satisfied: pytz>=2017.2 in c:\\users\\kunse\\anaconda3\\lib\\site-packages (from pandas>=0.24->dataframe-image) (2020.1)\n",
      "Requirement already satisfied: numpy>=1.15.4 in c:\\users\\kunse\\anaconda3\\lib\\site-packages (from pandas>=0.24->dataframe-image) (1.22.2)\n",
      "Requirement already satisfied: pyparsing!=2.0.4,!=2.1.2,!=2.1.6,>=2.0.3 in c:\\users\\kunse\\anaconda3\\lib\\site-packages (from matplotlib>=3.1->dataframe-image) (2.4.7)\n",
      "Requirement already satisfied: kiwisolver>=1.0.1 in c:\\users\\kunse\\anaconda3\\lib\\site-packages (from matplotlib>=3.1->dataframe-image) (1.3.0)\n",
      "Requirement already satisfied: cycler>=0.10 in c:\\users\\kunse\\anaconda3\\lib\\site-packages (from matplotlib>=3.1->dataframe-image) (0.10.0)\n",
      "Requirement already satisfied: pillow>=6.2.0 in c:\\users\\kunse\\anaconda3\\lib\\site-packages (from matplotlib>=3.1->dataframe-image) (8.0.1)\n",
      "Requirement already satisfied: soupsieve>1.2; python_version >= \"3.0\" in c:\\users\\kunse\\anaconda3\\lib\\site-packages (from beautifulsoup4->dataframe-image) (2.0.1)\n",
      "Collecting yarl<2.0,>=1.0\n",
      "  Downloading yarl-1.7.2-cp38-cp38-win_amd64.whl (122 kB)\n",
      "Collecting frozenlist>=1.1.1\n",
      "  Downloading frozenlist-1.3.0-cp38-cp38-win_amd64.whl (33 kB)\n",
      "Collecting multidict<7.0,>=4.5\n",
      "  Downloading multidict-6.0.2-cp38-cp38-win_amd64.whl (28 kB)\n",
      "Collecting charset-normalizer<3.0,>=2.0\n",
      "  Downloading charset_normalizer-2.0.12-py3-none-any.whl (39 kB)\n",
      "Collecting async-timeout<5.0,>=4.0.0a3\n",
      "  Downloading async_timeout-4.0.2-py3-none-any.whl (5.8 kB)\n",
      "Requirement already satisfied: attrs>=17.3.0 in c:\\users\\kunse\\anaconda3\\lib\\site-packages (from aiohttp->dataframe-image) (20.3.0)\n",
      "Collecting aiosignal>=1.1.2\n",
      "  Downloading aiosignal-1.2.0-py3-none-any.whl (8.2 kB)\n",
      "Requirement already satisfied: testpath in c:\\users\\kunse\\anaconda3\\lib\\site-packages (from nbconvert>=5->dataframe-image) (0.4.4)\n",
      "Requirement already satisfied: pandocfilters>=1.4.1 in c:\\users\\kunse\\anaconda3\\lib\\site-packages (from nbconvert>=5->dataframe-image) (1.4.3)\n",
      "Requirement already satisfied: entrypoints>=0.2.2 in c:\\users\\kunse\\anaconda3\\lib\\site-packages (from nbconvert>=5->dataframe-image) (0.3)\n",
      "Requirement already satisfied: jinja2>=2.4 in c:\\users\\kunse\\anaconda3\\lib\\site-packages (from nbconvert>=5->dataframe-image) (2.11.2)\n",
      "Requirement already satisfied: jupyter-core in c:\\users\\kunse\\anaconda3\\lib\\site-packages (from nbconvert>=5->dataframe-image) (4.6.3)Note: you may need to restart the kernel to use updated packages.\n",
      "\n",
      "Requirement already satisfied: bleach in c:\\users\\kunse\\anaconda3\\lib\\site-packages (from nbconvert>=5->dataframe-image) (3.2.1)\n",
      "Requirement already satisfied: nbclient<0.6.0,>=0.5.0 in c:\\users\\kunse\\anaconda3\\lib\\site-packages (from nbconvert>=5->dataframe-image) (0.5.1)\n",
      "Requirement already satisfied: pygments>=2.4.1 in c:\\users\\kunse\\anaconda3\\lib\\site-packages (from nbconvert>=5->dataframe-image) (2.7.2)\n",
      "Requirement already satisfied: jupyterlab-pygments in c:\\users\\kunse\\anaconda3\\lib\\site-packages (from nbconvert>=5->dataframe-image) (0.1.2)\n",
      "Requirement already satisfied: mistune<2,>=0.8.1 in c:\\users\\kunse\\anaconda3\\lib\\site-packages (from nbconvert>=5->dataframe-image) (0.8.4)\n",
      "Requirement already satisfied: nbformat>=4.4 in c:\\users\\kunse\\anaconda3\\lib\\site-packages (from nbconvert>=5->dataframe-image) (5.0.8)\n",
      "Requirement already satisfied: defusedxml in c:\\users\\kunse\\anaconda3\\lib\\site-packages (from nbconvert>=5->dataframe-image) (0.6.0)\n",
      "Requirement already satisfied: traitlets>=4.2 in c:\\users\\kunse\\anaconda3\\lib\\site-packages (from nbconvert>=5->dataframe-image) (5.0.5)\n",
      "Requirement already satisfied: six>=1.5 in c:\\users\\kunse\\anaconda3\\lib\\site-packages (from python-dateutil>=2.7.3->pandas>=0.24->dataframe-image) (1.15.0)\n",
      "Requirement already satisfied: MarkupSafe>=0.23 in c:\\users\\kunse\\anaconda3\\lib\\site-packages (from jinja2>=2.4->nbconvert>=5->dataframe-image) (1.1.1)\n",
      "Requirement already satisfied: pywin32>=1.0; sys_platform == \"win32\" in c:\\users\\kunse\\anaconda3\\lib\\site-packages (from jupyter-core->nbconvert>=5->dataframe-image) (227)\n",
      "Requirement already satisfied: webencodings in c:\\users\\kunse\\anaconda3\\lib\\site-packages (from bleach->nbconvert>=5->dataframe-image) (0.5.1)\n",
      "Requirement already satisfied: packaging in c:\\users\\kunse\\anaconda3\\lib\\site-packages (from bleach->nbconvert>=5->dataframe-image) (21.3)\n",
      "Requirement already satisfied: async-generator in c:\\users\\kunse\\anaconda3\\lib\\site-packages (from nbclient<0.6.0,>=0.5.0->nbconvert>=5->dataframe-image) (1.10)\n",
      "Requirement already satisfied: nest-asyncio in c:\\users\\kunse\\anaconda3\\lib\\site-packages (from nbclient<0.6.0,>=0.5.0->nbconvert>=5->dataframe-image) (1.4.2)\n",
      "Requirement already satisfied: jupyter-client>=6.1.5 in c:\\users\\kunse\\anaconda3\\lib\\site-packages (from nbclient<0.6.0,>=0.5.0->nbconvert>=5->dataframe-image) (6.1.7)\n",
      "Requirement already satisfied: ipython-genutils in c:\\users\\kunse\\anaconda3\\lib\\site-packages (from nbformat>=4.4->nbconvert>=5->dataframe-image) (0.2.0)\n",
      "Requirement already satisfied: jsonschema!=2.5.0,>=2.4 in c:\\users\\kunse\\anaconda3\\lib\\site-packages (from nbformat>=4.4->nbconvert>=5->dataframe-image) (3.2.0)\n",
      "Requirement already satisfied: tornado>=4.1 in c:\\users\\kunse\\anaconda3\\lib\\site-packages (from jupyter-client>=6.1.5->nbclient<0.6.0,>=0.5.0->nbconvert>=5->dataframe-image) (6.0.4)\n",
      "Requirement already satisfied: pyzmq>=13 in c:\\users\\kunse\\anaconda3\\lib\\site-packages (from jupyter-client>=6.1.5->nbclient<0.6.0,>=0.5.0->nbconvert>=5->dataframe-image) (19.0.2)\n",
      "Requirement already satisfied: setuptools in c:\\users\\kunse\\anaconda3\\lib\\site-packages (from jsonschema!=2.5.0,>=2.4->nbformat>=4.4->nbconvert>=5->dataframe-image) (50.3.1.post20201107)\n",
      "Requirement already satisfied: pyrsistent>=0.14.0 in c:\\users\\kunse\\anaconda3\\lib\\site-packages (from jsonschema!=2.5.0,>=2.4->nbformat>=4.4->nbconvert>=5->dataframe-image) (0.17.3)\n",
      "Installing collected packages: multidict, yarl, frozenlist, charset-normalizer, async-timeout, aiosignal, aiohttp, dataframe-image\n",
      "Successfully installed aiohttp-3.8.1 aiosignal-1.2.0 async-timeout-4.0.2 charset-normalizer-2.0.12 dataframe-image-0.1.1 frozenlist-1.3.0 multidict-6.0.2 yarl-1.7.2\n"
     ]
    }
   ],
   "source": [
    "# pip install dataframe-image\n"
   ]
  },
  {
   "cell_type": "code",
   "execution_count": 14,
   "metadata": {},
   "outputs": [
    {
     "data": {
      "text/plain": [
       "Index(['Time', 'ActivePower', 'AmbientTemperatue', 'BearingShaftTemperature',\n",
       "       'Blade1PitchAngle', 'GearboxBearingTemperature', 'GeneratorRPM',\n",
       "       'GeneratorWinding2Temperature', 'HubTemperature', 'MainBoxTemperature',\n",
       "       'ReactivePower', 'TurbineStatus', 'WindDirection', 'WindSpeed', 'year',\n",
       "       'month', 'day'],\n",
       "      dtype='object')"
      ]
     },
     "execution_count": 14,
     "metadata": {},
     "output_type": "execute_result"
    }
   ],
   "source": [
    "df.columns"
   ]
  },
  {
   "cell_type": "code",
   "execution_count": 16,
   "metadata": {},
   "outputs": [
    {
     "name": "stdout",
     "output_type": "stream",
     "text": [
      "2018-08-19 16:20:00+00:00\n",
      "2020-03-30 23:50:00+00:00\n"
     ]
    }
   ],
   "source": [
    "print(df['Time'].min())\n",
    "print(df['Time'].max())"
   ]
  },
  {
   "cell_type": "code",
   "execution_count": null,
   "metadata": {},
   "outputs": [],
   "source": []
  }
 ],
 "metadata": {
  "interpreter": {
   "hash": "e7370f93d1d0cde622a1f8e1c04877d8463912d04d973331ad4851f04de6915a"
  },
  "kernelspec": {
   "display_name": "Python 3",
   "language": "python",
   "name": "python3"
  },
  "language_info": {
   "codemirror_mode": {
    "name": "ipython",
    "version": 3
   },
   "file_extension": ".py",
   "mimetype": "text/x-python",
   "name": "python",
   "nbconvert_exporter": "python",
   "pygments_lexer": "ipython3",
   "version": "3.8.5"
  }
 },
 "nbformat": 4,
 "nbformat_minor": 2
}
